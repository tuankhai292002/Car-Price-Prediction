{
 "cells": [
  {
   "cell_type": "code",
   "execution_count": null,
   "id": "ca3b23b1",
   "metadata": {},
   "outputs": [],
   "source": [
    "from bs4 import BeautifulSoup\n",
    "import requests\n",
    "import csv\n",
    "import time\n",
    "from selenium import webdriver\n",
    "globalUrl =\"https://bonbanh.com/oto/\""
   ]
  },
  {
   "cell_type": "code",
   "execution_count": null,
   "id": "ba016c65",
   "metadata": {},
   "outputs": [],
   "source": [
    "# Base Url sử  dụng công cụ beautifulSoup và requests để  truy xuất dữ liệu\n",
    "urlDetail = \"https://bonbanh.com/\"\n",
    "\n",
    "results = []"
   ]
  },
  {
   "cell_type": "code",
   "execution_count": null,
   "id": "dd3fbb2f",
   "metadata": {},
   "outputs": [],
   "source": [
    "# Hàm lấy thông tin bản ghi\n",
    "def getInformation(data): \n",
    "    a = data.find(\"a\")\n",
    "    information = []\n",
    "    tilte = a.find(\"div\", {\"class\", \"cb2_02\"})\n",
    "    # lấy thông tin hãng sản xuất\n",
    "    information.append(tilte.text.split()[0])\n",
    "\n",
    "    # lấy thông tin tên xe\n",
    "    information.append(tilte.text)\n",
    "\n",
    "    namSX = a.find(\"div\", {\"class\", \"cb1\"}).b.text\n",
    "\n",
    "    # lấy thông tin năm sản xuất\n",
    "    information.append(namSX)\n",
    "\n",
    "    price = a.find(\"div\", {\"class\", \"cb3\"}).b[\"content\"]\n",
    "\n",
    "\n",
    "    contentDetail = requests.get(urlDetail + a[\"href\"]).content\n",
    "    soupDetail = BeautifulSoup(contentDetail,\"html.parser\")\n",
    "\n",
    "\n",
    "    car_wrapper = soupDetail.find(\"div\", {\"id\": \"wrapper\"})\n",
    "    car_detail = car_wrapper.find(\"div\", {\"id\": \"car_detail\"}).find(\"div\", {\"id\": \"sgg\"}).find(\"div\", {\"class\": \"tabber\"}).find(\"div\", {\"class\": \"tabbertab\"})\n",
    "    cols = car_detail.find_all(\"div\", {\"class\": \"col\"})\n",
    "\n",
    "    rowsCol1 = cols[0].find_all(\"div\", {\"id\": \"mail_parent\"})\n",
    "\n",
    "    rowsCol2 = cols[1].find_all(\"div\", {\"id\": \"mail_parent\"})\n",
    "\n",
    "    # lấy thông tin tình trạng xe\n",
    "    if rowsCol1[1].find(\"div\", {\"class\": \"txt_input\"}).text == \"Xe đã dùng\":\n",
    "        information.append(\"used\")\n",
    "    else :\n",
    "        information.append(\"new\")\n",
    "    # lấy thông tin loại xe\n",
    "    information.append(rowsCol1[2].find(\"div\", {\"class\": \"txt_input\"}).text.split(\"/\")[0])\n",
    "\n",
    "    # lấy thông tin số  km xe đã đi\n",
    "    information.append(int(rowsCol1[3].find(\"div\", {\"class\": \"txt_input\"}).text.split()[0].replace(\",\",\"\")))\n",
    "\n",
    "    # lấy thông tin số  cửa\n",
    "    information.append(int(rowsCol1[6].find(\"div\", {\"class\": \"txt_input\"}).text.split()[0]))\n",
    "\n",
    "    # lấy thông tin số  chỗ  ngồi\n",
    "    information.append(int(rowsCol1[7].find(\"div\", {\"class\": \"inputbox\"}).text.split()[0]))\n",
    "\n",
    "    # lấy thông tin loại nhiêu liệu\n",
    "    information.append(rowsCol2[0].find(\"div\", {\"class\": \"txt_input\"}).text.split()[0])\n",
    "\n",
    "    # lấy thông tin lượng nhiêu liệu\n",
    "    if len(rowsCol2[0].find(\"div\", {\"class\": \"txt_input\"}).text.split()) > 1 :\n",
    "        information.append(rowsCol2[0].find(\"div\", {\"class\": \"txt_input\"}).text.split()[1])\n",
    "    else :\n",
    "        information.append(\"null\")\n",
    "\n",
    "    # lấy thông tin hộp số  xe\n",
    "    information.append(rowsCol2[2].find(\"div\", {\"class\": \"txt_input\"}).text)\n",
    "\n",
    "    # lấy thông tin dẫn động xe\n",
    "    information.append(rowsCol2[3].find(\"div\", {\"class\": \"txt_input\"}).text)\n",
    "\n",
    "    # lấy thông tin lượng nhiêu liệu tiêu thụ/100Km\n",
    "    fuel_consumption = rowsCol2[4].find(\"div\", {\"class\": \"txt_input\"}).text.split()[0]\n",
    "    if (\"L/100Km\" in fuel_consumption) :\n",
    "        information.append(\"null\")\n",
    "    else :\n",
    "        information.append(fuel_consumption)\n",
    "        \n",
    "    # lấy thông tin giá xe\n",
    "    information.append(price)\n",
    "    print(information)\n",
    "    return information"
   ]
  },
  {
   "cell_type": "code",
   "execution_count": null,
   "id": "1e300f65",
   "metadata": {},
   "outputs": [],
   "source": [
    "\n",
    "for i in range(1, 2):\n",
    "    time.sleep(5) \n",
    "    print(i)\n",
    "    # Dữ liệu được thu thập từ các trang con của trang chính bằng cách thay đổi tham số “page” trong URL.\n",
    "    content = requests.get(globalUrl + \"page,\" + str(i)).content\n",
    "    soup = BeautifulSoup(content,\"html.parser\")\n",
    "    list = soup.find_all(\"li\",{\"class\": \"car-item\"})\n",
    "    try :\n",
    "        for li in list:\n",
    "            infor = getInformation(li)\n",
    "            results.append(infor)\n",
    "    except Exception:\n",
    "        error = 'true'"
   ]
  },
  {
   "cell_type": "code",
   "execution_count": null,
   "id": "a6d30084",
   "metadata": {},
   "outputs": [],
   "source": [
    "print(results)\n",
    "# Ghi vào các bảng ghi\n",
    "with open('data.csv', mode='w', newline='', encoding='utf-8-sig') as file:\n",
    "    writer = csv.writer(file)\n",
    "    writer.writerow(['Company', 'Name', 'YearOfManufacture', 'Status', 'Body', 'DistanceUsed', 'Doors', 'Seats','FuelType', 'FuelAmount', 'GearBox', 'Drivetrain', 'FuelConsumption', 'Price'])\n",
    "    for li in results:\n",
    "        writer.writerow(li)"
   ]
  }
 ],
 "metadata": {
  "kernelspec": {
   "display_name": "Python 3",
   "language": "python",
   "name": "python3"
  },
  "language_info": {
   "codemirror_mode": {
    "name": "ipython",
    "version": 3
   },
   "file_extension": ".py",
   "mimetype": "text/x-python",
   "name": "python",
   "nbconvert_exporter": "python",
   "pygments_lexer": "ipython3",
   "version": "3.9.13"
  },
  "vscode": {
   "interpreter": {
    "hash": "e7370f93d1d0cde622a1f8e1c04877d8463912d04d973331ad4851f04de6915a"
   }
  }
 },
 "nbformat": 4,
 "nbformat_minor": 5
}
